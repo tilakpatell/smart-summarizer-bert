{
  "nbformat": 4,
  "nbformat_minor": 0,
  "metadata": {
    "colab": {
      "provenance": [],
      "gpuType": "T4",
      "authorship_tag": "ABX9TyOYUFJ9RPkjqn3ppeihHoXY",
      "include_colab_link": true
    },
    "kernelspec": {
      "name": "python3",
      "display_name": "Python 3"
    },
    "language_info": {
      "name": "python"
    },
    "accelerator": "GPU"
  },
  "cells": [
    {
      "cell_type": "markdown",
      "metadata": {
        "id": "view-in-github",
        "colab_type": "text"
      },
      "source": [
        "<a href=\"https://colab.research.google.com/github/tilakpatell/smart-summarizer-bert/blob/main/smartsummarizer.ipynb\" target=\"_parent\"><img src=\"https://colab.research.google.com/assets/colab-badge.svg\" alt=\"Open In Colab\"/></a>"
      ]
    },
    {
      "cell_type": "markdown",
      "source": [
        "# Training a BERT Model for Masked Language Modeling\n",
        "\n",
        "This notebook demonstrates how to train a BERT model for masked language modeling using PyTorch and the Hugging Face Transformers library. We will load and preprocess the data, train the model, and visualize the training and validation losses. It is a fun project to help understand how to use pretrained models!\n",
        "\n",
        "## Summary\n",
        "\n",
        "In this project, we train a BERT model for the task of masked language modeling. The steps include data loading, preprocessing, model training, and result visualization. We utilize the following tools and libraries:\n",
        "\n",
        "- **PyTorch**: For building and training the neural network.\n",
        "- **Hugging Face Transformers**: For using pre-trained transformer models like BERT.\n",
        "- **Datasets**: For loading and processing large datasets.\n",
        "- **Matplotlib**: For visualizing training results.\n",
        "\n",
        "## 1. Setup\n",
        "\n",
        "First, we need to install the required libraries.\n",
        "\n",
        "```python\n",
        "!pip install transformers datasets torch matplotlib torchvision requests pyarrow\n",
        "```\n",
        "We also want to link google colab and mount your drive for easy machine learning gpu support!\n",
        "\n",
        "```\n",
        "from google.colab import drive\n",
        "drive.mount('/content/drive')\n",
        "\n",
        "```\n",
        "\n",
        "\n",
        "## Key Components\n",
        "\n",
        "1. **Data Loading and Preprocessing**\n",
        "2. **Model Architecture**\n",
        "3. **Training Process**\n",
        "4. **Optimization Techniques**\n",
        "5. **Visualization**\n",
        "\n",
        "## Implementation Details\n",
        "\n",
        "### Data Loading and Preprocessing\n",
        "- Loads the CNN/DailyMail dataset from disk\n",
        "- Limits the number of samples for faster training\n",
        "- Truncates sequences to a specified maximum length\n",
        "\n",
        "### Model Architecture\n",
        "- Uses a pre-trained BERT model for masked language modeling\n",
        "- Adapts BERT for the summarization task\n",
        "\n",
        "### Training Process\n",
        "- Implements mixed precision training for efficiency\n",
        "- Uses gradient accumulation to simulate larger batch sizes\n",
        "- Trains for a specified number of epochs\n",
        "\n",
        "### Optimization Techniques\n",
        "- Reduced dataset size (50,000 samples)\n",
        "- Shorter sequence length (256 tokens)\n",
        "- Increased batch size (32)\n",
        "- Gradient accumulation (effective batch size of 128)\n"
      ],
      "metadata": {
        "id": "TqSOMzJLbdam"
      }
    },
    {
      "cell_type": "code",
      "source": [
        "from google.colab import drive\n",
        "drive.mount('/content/drive')\n"
      ],
      "metadata": {
        "colab": {
          "base_uri": "https://localhost:8080/"
        },
        "id": "ehHoJhHhv9Ry",
        "outputId": "7a728034-0695-47c5-9773-f5f2e9fd1ebd"
      },
      "execution_count": 2,
      "outputs": [
        {
          "output_type": "stream",
          "name": "stdout",
          "text": [
            "Drive already mounted at /content/drive; to attempt to forcibly remount, call drive.mount(\"/content/drive\", force_remount=True).\n"
          ]
        }
      ]
    },
    {
      "cell_type": "code",
      "source": [
        "!pip install torch transformers datasets torchvision requests==2.31.0 pyarrow==14.0.2\n"
      ],
      "metadata": {
        "colab": {
          "base_uri": "https://localhost:8080/"
        },
        "id": "QbGrf4obv-LI",
        "outputId": "10d80aac-1e46-4e93-bccb-c40675d011a0"
      },
      "execution_count": 4,
      "outputs": [
        {
          "output_type": "stream",
          "name": "stdout",
          "text": [
            "Found existing installation: requests 2.32.3\n",
            "Uninstalling requests-2.32.3:\n",
            "  Successfully uninstalled requests-2.32.3\n",
            "Found existing installation: pyarrow 17.0.0\n",
            "Uninstalling pyarrow-17.0.0:\n",
            "  Successfully uninstalled pyarrow-17.0.0\n",
            "Requirement already satisfied: torch in /usr/local/lib/python3.10/dist-packages (2.3.1+cu121)\n",
            "Requirement already satisfied: transformers in /usr/local/lib/python3.10/dist-packages (4.42.4)\n",
            "Requirement already satisfied: datasets in /usr/local/lib/python3.10/dist-packages (2.20.0)\n",
            "Requirement already satisfied: torchvision in /usr/local/lib/python3.10/dist-packages (0.18.1+cu121)\n",
            "Collecting requests==2.31.0\n",
            "  Downloading requests-2.31.0-py3-none-any.whl.metadata (4.6 kB)\n",
            "Collecting pyarrow==14.0.2\n",
            "  Downloading pyarrow-14.0.2-cp310-cp310-manylinux_2_28_x86_64.whl.metadata (3.0 kB)\n",
            "Requirement already satisfied: charset-normalizer<4,>=2 in /usr/local/lib/python3.10/dist-packages (from requests==2.31.0) (3.3.2)\n",
            "Requirement already satisfied: idna<4,>=2.5 in /usr/local/lib/python3.10/dist-packages (from requests==2.31.0) (3.7)\n",
            "Requirement already satisfied: urllib3<3,>=1.21.1 in /usr/local/lib/python3.10/dist-packages (from requests==2.31.0) (2.0.7)\n",
            "Requirement already satisfied: certifi>=2017.4.17 in /usr/local/lib/python3.10/dist-packages (from requests==2.31.0) (2024.7.4)\n",
            "Requirement already satisfied: numpy>=1.16.6 in /usr/local/lib/python3.10/dist-packages (from pyarrow==14.0.2) (1.25.2)\n",
            "Requirement already satisfied: filelock in /usr/local/lib/python3.10/dist-packages (from torch) (3.15.4)\n",
            "Requirement already satisfied: typing-extensions>=4.8.0 in /usr/local/lib/python3.10/dist-packages (from torch) (4.12.2)\n",
            "Requirement already satisfied: sympy in /usr/local/lib/python3.10/dist-packages (from torch) (1.13.1)\n",
            "Requirement already satisfied: networkx in /usr/local/lib/python3.10/dist-packages (from torch) (3.3)\n",
            "Requirement already satisfied: jinja2 in /usr/local/lib/python3.10/dist-packages (from torch) (3.1.4)\n",
            "Requirement already satisfied: fsspec in /usr/local/lib/python3.10/dist-packages (from torch) (2023.6.0)\n",
            "Requirement already satisfied: nvidia-cuda-nvrtc-cu12==12.1.105 in /usr/local/lib/python3.10/dist-packages (from torch) (12.1.105)\n",
            "Requirement already satisfied: nvidia-cuda-runtime-cu12==12.1.105 in /usr/local/lib/python3.10/dist-packages (from torch) (12.1.105)\n",
            "Requirement already satisfied: nvidia-cuda-cupti-cu12==12.1.105 in /usr/local/lib/python3.10/dist-packages (from torch) (12.1.105)\n",
            "Requirement already satisfied: nvidia-cudnn-cu12==8.9.2.26 in /usr/local/lib/python3.10/dist-packages (from torch) (8.9.2.26)\n",
            "Requirement already satisfied: nvidia-cublas-cu12==12.1.3.1 in /usr/local/lib/python3.10/dist-packages (from torch) (12.1.3.1)\n",
            "Requirement already satisfied: nvidia-cufft-cu12==11.0.2.54 in /usr/local/lib/python3.10/dist-packages (from torch) (11.0.2.54)\n",
            "Requirement already satisfied: nvidia-curand-cu12==10.3.2.106 in /usr/local/lib/python3.10/dist-packages (from torch) (10.3.2.106)\n",
            "Requirement already satisfied: nvidia-cusolver-cu12==11.4.5.107 in /usr/local/lib/python3.10/dist-packages (from torch) (11.4.5.107)\n",
            "Requirement already satisfied: nvidia-cusparse-cu12==12.1.0.106 in /usr/local/lib/python3.10/dist-packages (from torch) (12.1.0.106)\n",
            "Requirement already satisfied: nvidia-nccl-cu12==2.20.5 in /usr/local/lib/python3.10/dist-packages (from torch) (2.20.5)\n",
            "Requirement already satisfied: nvidia-nvtx-cu12==12.1.105 in /usr/local/lib/python3.10/dist-packages (from torch) (12.1.105)\n",
            "Requirement already satisfied: triton==2.3.1 in /usr/local/lib/python3.10/dist-packages (from torch) (2.3.1)\n",
            "Requirement already satisfied: nvidia-nvjitlink-cu12 in /usr/local/lib/python3.10/dist-packages (from nvidia-cusolver-cu12==11.4.5.107->torch) (12.5.82)\n",
            "Requirement already satisfied: huggingface-hub<1.0,>=0.23.2 in /usr/local/lib/python3.10/dist-packages (from transformers) (0.23.5)\n",
            "Requirement already satisfied: packaging>=20.0 in /usr/local/lib/python3.10/dist-packages (from transformers) (24.1)\n",
            "Requirement already satisfied: pyyaml>=5.1 in /usr/local/lib/python3.10/dist-packages (from transformers) (6.0.1)\n",
            "Requirement already satisfied: regex!=2019.12.17 in /usr/local/lib/python3.10/dist-packages (from transformers) (2024.5.15)\n",
            "Requirement already satisfied: safetensors>=0.4.1 in /usr/local/lib/python3.10/dist-packages (from transformers) (0.4.3)\n",
            "Requirement already satisfied: tokenizers<0.20,>=0.19 in /usr/local/lib/python3.10/dist-packages (from transformers) (0.19.1)\n",
            "Requirement already satisfied: tqdm>=4.27 in /usr/local/lib/python3.10/dist-packages (from transformers) (4.66.4)\n",
            "INFO: pip is looking at multiple versions of datasets to determine which version is compatible with other requirements. This could take a while.\n",
            "Collecting datasets\n",
            "  Downloading datasets-2.19.2-py3-none-any.whl.metadata (19 kB)\n",
            "Requirement already satisfied: pyarrow-hotfix in /usr/local/lib/python3.10/dist-packages (from datasets) (0.6)\n",
            "Requirement already satisfied: dill<0.3.9,>=0.3.0 in /usr/local/lib/python3.10/dist-packages (from datasets) (0.3.8)\n",
            "Requirement already satisfied: pandas in /usr/local/lib/python3.10/dist-packages (from datasets) (2.0.3)\n",
            "  Downloading datasets-2.19.1-py3-none-any.whl.metadata (19 kB)\n",
            "Requirement already satisfied: xxhash in /usr/local/lib/python3.10/dist-packages (from datasets) (3.4.1)\n",
            "Requirement already satisfied: multiprocess in /usr/local/lib/python3.10/dist-packages (from datasets) (0.70.16)\n",
            "Requirement already satisfied: aiohttp in /usr/local/lib/python3.10/dist-packages (from datasets) (3.9.5)\n",
            "Requirement already satisfied: pillow!=8.3.*,>=5.3.0 in /usr/local/lib/python3.10/dist-packages (from torchvision) (9.4.0)\n",
            "Requirement already satisfied: aiosignal>=1.1.2 in /usr/local/lib/python3.10/dist-packages (from aiohttp->datasets) (1.3.1)\n",
            "Requirement already satisfied: attrs>=17.3.0 in /usr/local/lib/python3.10/dist-packages (from aiohttp->datasets) (23.2.0)\n",
            "Requirement already satisfied: frozenlist>=1.1.1 in /usr/local/lib/python3.10/dist-packages (from aiohttp->datasets) (1.4.1)\n",
            "Requirement already satisfied: multidict<7.0,>=4.5 in /usr/local/lib/python3.10/dist-packages (from aiohttp->datasets) (6.0.5)\n",
            "Requirement already satisfied: yarl<2.0,>=1.0 in /usr/local/lib/python3.10/dist-packages (from aiohttp->datasets) (1.9.4)\n",
            "Requirement already satisfied: async-timeout<5.0,>=4.0 in /usr/local/lib/python3.10/dist-packages (from aiohttp->datasets) (4.0.3)\n",
            "Requirement already satisfied: MarkupSafe>=2.0 in /usr/local/lib/python3.10/dist-packages (from jinja2->torch) (2.1.5)\n",
            "Requirement already satisfied: python-dateutil>=2.8.2 in /usr/local/lib/python3.10/dist-packages (from pandas->datasets) (2.8.2)\n",
            "Requirement already satisfied: pytz>=2020.1 in /usr/local/lib/python3.10/dist-packages (from pandas->datasets) (2023.4)\n",
            "Requirement already satisfied: tzdata>=2022.1 in /usr/local/lib/python3.10/dist-packages (from pandas->datasets) (2024.1)\n",
            "Requirement already satisfied: mpmath<1.4,>=1.1.0 in /usr/local/lib/python3.10/dist-packages (from sympy->torch) (1.3.0)\n",
            "Requirement already satisfied: six>=1.5 in /usr/local/lib/python3.10/dist-packages (from python-dateutil>=2.8.2->pandas->datasets) (1.16.0)\n",
            "Downloading requests-2.31.0-py3-none-any.whl (62 kB)\n",
            "\u001b[2K   \u001b[90m━━━━━━━━━━━━━━━━━━━━━━━━━━━━━━━━━━━━━━━━\u001b[0m \u001b[32m62.6/62.6 kB\u001b[0m \u001b[31m4.1 MB/s\u001b[0m eta \u001b[36m0:00:00\u001b[0m\n",
            "\u001b[?25hDownloading pyarrow-14.0.2-cp310-cp310-manylinux_2_28_x86_64.whl (38.0 MB)\n",
            "\u001b[2K   \u001b[90m━━━━━━━━━━━━━━━━━━━━━━━━━━━━━━━━━━━━━━━━\u001b[0m \u001b[32m38.0/38.0 MB\u001b[0m \u001b[31m48.1 MB/s\u001b[0m eta \u001b[36m0:00:00\u001b[0m\n",
            "\u001b[?25hDownloading datasets-2.19.1-py3-none-any.whl (542 kB)\n",
            "\u001b[2K   \u001b[90m━━━━━━━━━━━━━━━━━━━━━━━━━━━━━━━━━━━━━━━━\u001b[0m \u001b[32m542.0/542.0 kB\u001b[0m \u001b[31m38.0 MB/s\u001b[0m eta \u001b[36m0:00:00\u001b[0m\n",
            "\u001b[?25hInstalling collected packages: requests, pyarrow, datasets\n",
            "  Attempting uninstall: datasets\n",
            "    Found existing installation: datasets 2.20.0\n",
            "    Uninstalling datasets-2.20.0:\n",
            "      Successfully uninstalled datasets-2.20.0\n",
            "Successfully installed datasets-2.19.1 pyarrow-14.0.2 requests-2.31.0\n"
          ]
        }
      ]
    },
    {
      "cell_type": "code",
      "source": [
        "import shutil\n",
        "import os\n",
        "\n",
        "drive_base_path = '/content/drive/MyDrive/Project1/'\n",
        "\n",
        "# Check if the directory exists and remove it if it does\n",
        "if os.path.exists('/content/Project1'):\n",
        "  shutil.rmtree('/content/Project1')\n",
        "\n",
        "# Copy the entire Project1 folder to the Colab working directory\n",
        "shutil.copytree(drive_base_path, '/content/Project1')\n"
      ],
      "metadata": {
        "colab": {
          "base_uri": "https://localhost:8080/",
          "height": 36
        },
        "id": "fdVvxfW5wH0N",
        "outputId": "16bc1acf-50d5-49d8-9957-3baee0b87dc7"
      },
      "execution_count": 5,
      "outputs": [
        {
          "output_type": "execute_result",
          "data": {
            "text/plain": [
              "'/content/Project1'"
            ],
            "application/vnd.google.colaboratory.intrinsic+json": {
              "type": "string"
            }
          },
          "metadata": {},
          "execution_count": 5
        }
      ]
    },
    {
      "cell_type": "code",
      "source": [
        "!python /content/Project1/python/data_collection.py"
      ],
      "metadata": {
        "colab": {
          "base_uri": "https://localhost:8080/"
        },
        "id": "jhqdU8FvyLCn",
        "outputId": "5c5ddcd7-8bf8-4f52-c4bf-ff5bfd313741"
      },
      "execution_count": 6,
      "outputs": [
        {
          "output_type": "stream",
          "name": "stdout",
          "text": [
            "Downloading readme: 100% 15.6k/15.6k [00:00<00:00, 42.8MB/s]\n",
            "Downloading data: 100% 256M/256M [00:01<00:00, 172MB/s]\n",
            "Downloading data: 100% 257M/257M [00:05<00:00, 47.9MB/s]\n",
            "Downloading data: 100% 259M/259M [00:01<00:00, 181MB/s]\n",
            "Downloading data: 100% 34.7M/34.7M [00:00<00:00, 130MB/s]\n",
            "Downloading data: 100% 30.0M/30.0M [00:00<00:00, 130MB/s] \n",
            "Generating train split: 100% 287113/287113 [00:09<00:00, 30639.52 examples/s]\n",
            "Generating validation split: 100% 13368/13368 [00:00<00:00, 48238.60 examples/s]\n",
            "Generating test split: 100% 11490/11490 [00:00<00:00, 57123.06 examples/s]\n",
            "Saving the dataset (3/3 shards): 100% 287113/287113 [00:06<00:00, 46637.13 examples/s]\n",
            "Saving the dataset (1/1 shards): 100% 13368/13368 [00:00<00:00, 79362.62 examples/s]\n",
            "Saving the dataset (1/1 shards): 100% 11490/11490 [00:00<00:00, 69422.91 examples/s]\n"
          ]
        }
      ]
    },
    {
      "cell_type": "code",
      "source": [
        "!python /content/Project1/python/data_preprocessing.py\n"
      ],
      "metadata": {
        "colab": {
          "base_uri": "https://localhost:8080/"
        },
        "id": "XRf_wjNWwYpp",
        "outputId": "e98a071f-fb04-43aa-9002-67d513d2e917"
      },
      "execution_count": 7,
      "outputs": [
        {
          "output_type": "stream",
          "name": "stdout",
          "text": [
            "tokenizer_config.json: 100% 48.0/48.0 [00:00<00:00, 336kB/s]\n",
            "vocab.txt: 100% 232k/232k [00:00<00:00, 9.51MB/s]\n",
            "tokenizer.json: 100% 466k/466k [00:00<00:00, 5.64MB/s]\n",
            "config.json: 100% 570/570 [00:00<00:00, 3.72MB/s]\n",
            "Map: 100% 287113/287113 [1:18:44<00:00, 60.78 examples/s]\n",
            "Map: 100% 13368/13368 [03:35<00:00, 62.09 examples/s]\n",
            "Map: 100% 11490/11490 [03:06<00:00, 61.63 examples/s]\n",
            "Saving the dataset (4/4 shards): 100% 287113/287113 [00:10<00:00, 26520.49 examples/s]\n",
            "Saving the dataset (1/1 shards): 100% 13368/13368 [00:00<00:00, 46466.93 examples/s]\n",
            "Saving the dataset (1/1 shards): 100% 11490/11490 [00:00<00:00, 48694.10 examples/s]\n"
          ]
        }
      ]
    },
    {
      "cell_type": "code",
      "source": [
        "!python /content/Project1/python/model_training.py\n"
      ],
      "metadata": {
        "colab": {
          "base_uri": "https://localhost:8080/"
        },
        "id": "ZHfGIqACyTcS",
        "outputId": "179e2d13-8b91-47ea-ca2d-ea8ae7f72da1"
      },
      "execution_count": 13,
      "outputs": [
        {
          "output_type": "stream",
          "name": "stdout",
          "text": [
            "Loading data from directory: /content/Project1/data/processed/tokenized_data_train\n",
            "Dataset info: Dataset({\n",
            "    features: ['id', 'input_ids', 'attention_mask', 'labels'],\n",
            "    num_rows: 50000\n",
            "})\n",
            "Loading data from directory: /content/Project1/data/processed/tokenized_data_val\n",
            "Dataset info: Dataset({\n",
            "    features: ['id', 'input_ids', 'attention_mask', 'labels'],\n",
            "    num_rows: 2500\n",
            "})\n",
            "Map: 100% 50000/50000 [00:46<00:00, 1070.46 examples/s]\n",
            "Map: 100% 2500/2500 [00:02<00:00, 1177.35 examples/s]\n",
            "Some weights of the model checkpoint at bert-base-uncased were not used when initializing BertForMaskedLM: ['bert.pooler.dense.bias', 'bert.pooler.dense.weight', 'cls.seq_relationship.bias', 'cls.seq_relationship.weight']\n",
            "- This IS expected if you are initializing BertForMaskedLM from the checkpoint of a model trained on another task or with another architecture (e.g. initializing a BertForSequenceClassification model from a BertForPreTraining model).\n",
            "- This IS NOT expected if you are initializing BertForMaskedLM from the checkpoint of a model that you expect to be exactly identical (initializing a BertForSequenceClassification model from a BertForSequenceClassification model).\n",
            "/usr/local/lib/python3.10/dist-packages/transformers/optimization.py:591: FutureWarning: This implementation of AdamW is deprecated and will be removed in a future version. Use the PyTorch implementation torch.optim.AdamW instead, or set `no_deprecation_warning=True` to disable this warning\n",
            "  warnings.warn(\n",
            "Epoch 1/2\n",
            "Training Loss: 6.6121\n",
            "Validation Loss: 6.3841\n",
            "Epoch 2/2\n",
            "Training Loss: 6.1695\n",
            "Validation Loss: 6.2967\n",
            "Model saved to /content/Project1/data/processed/trained_model\n",
            "Model training completed successfully.\n"
          ]
        }
      ]
    },
    {
      "cell_type": "code",
      "source": [
        "!pip install matplotlib seaborn"
      ],
      "metadata": {
        "colab": {
          "base_uri": "https://localhost:8080/"
        },
        "id": "w2HmZR_CZ89N",
        "outputId": "6181dc43-aafa-44b4-9d95-6fa26a1f9ae6"
      },
      "execution_count": 21,
      "outputs": [
        {
          "output_type": "stream",
          "name": "stdout",
          "text": [
            "Requirement already satisfied: matplotlib in /usr/local/lib/python3.10/dist-packages (3.7.1)\n",
            "Requirement already satisfied: seaborn in /usr/local/lib/python3.10/dist-packages (0.13.1)\n",
            "Requirement already satisfied: contourpy>=1.0.1 in /usr/local/lib/python3.10/dist-packages (from matplotlib) (1.2.1)\n",
            "Requirement already satisfied: cycler>=0.10 in /usr/local/lib/python3.10/dist-packages (from matplotlib) (0.12.1)\n",
            "Requirement already satisfied: fonttools>=4.22.0 in /usr/local/lib/python3.10/dist-packages (from matplotlib) (4.53.1)\n",
            "Requirement already satisfied: kiwisolver>=1.0.1 in /usr/local/lib/python3.10/dist-packages (from matplotlib) (1.4.5)\n",
            "Requirement already satisfied: numpy>=1.20 in /usr/local/lib/python3.10/dist-packages (from matplotlib) (1.25.2)\n",
            "Requirement already satisfied: packaging>=20.0 in /usr/local/lib/python3.10/dist-packages (from matplotlib) (24.1)\n",
            "Requirement already satisfied: pillow>=6.2.0 in /usr/local/lib/python3.10/dist-packages (from matplotlib) (9.4.0)\n",
            "Requirement already satisfied: pyparsing>=2.3.1 in /usr/local/lib/python3.10/dist-packages (from matplotlib) (3.1.2)\n",
            "Requirement already satisfied: python-dateutil>=2.7 in /usr/local/lib/python3.10/dist-packages (from matplotlib) (2.8.2)\n",
            "Requirement already satisfied: pandas>=1.2 in /usr/local/lib/python3.10/dist-packages (from seaborn) (2.0.3)\n",
            "Requirement already satisfied: pytz>=2020.1 in /usr/local/lib/python3.10/dist-packages (from pandas>=1.2->seaborn) (2023.4)\n",
            "Requirement already satisfied: tzdata>=2022.1 in /usr/local/lib/python3.10/dist-packages (from pandas>=1.2->seaborn) (2024.1)\n",
            "Requirement already satisfied: six>=1.5 in /usr/local/lib/python3.10/dist-packages (from python-dateutil>=2.7->matplotlib) (1.16.0)\n"
          ]
        }
      ]
    },
    {
      "cell_type": "code",
      "source": [
        "import matplotlib.pyplot as plt\n",
        "import torch\n",
        "import os\n",
        "from google.colab import drive\n",
        "import seaborn as sns\n",
        "\n",
        "# Set the style for the plot\n",
        "plt.style.use('seaborn')\n",
        "sns.set_palette(\"deep\")\n",
        "\n",
        "# Mount Google Drive\n",
        "drive.mount('/content/drive')\n",
        "\n",
        "# Load the training results\n",
        "DATA_DIR = '/content/Project1/data/processed/training_results.pth'\n",
        "results = torch.load(DATA_DIR)\n",
        "\n",
        "train_losses = results['train_losses']\n",
        "val_losses = results['val_losses']\n",
        "\n",
        "# Create the plot\n",
        "fig, ax = plt.subplots(figsize=(14, 8))\n",
        "\n",
        "# Plot training and validation loss\n",
        "ax.plot(train_losses, label='Training Loss', marker='o', linewidth=2, markersize=8)\n",
        "ax.plot(val_losses, label='Validation Loss', marker='s', linewidth=2, markersize=8)\n",
        "\n",
        "# Customize the plot\n",
        "ax.set_title('BERT Text Summarization: Training and Validation Loss', fontsize=20, pad=20)\n",
        "ax.set_xlabel('Epoch', fontsize=14)\n",
        "ax.set_ylabel('Loss', fontsize=14)\n",
        "ax.legend(fontsize=12)\n",
        "ax.grid(True, linestyle='--', alpha=0.7)\n",
        "ax.set_xticks(range(len(train_losses)))\n",
        "ax.set_ylim(bottom=0)  # Set y-axis to start from 0\n",
        "\n",
        "# Add value labels\n",
        "for i, (train_loss, val_loss) in enumerate(zip(train_losses, val_losses)):\n",
        "    ax.annotate(f'{train_loss:.4f}', (i, train_loss), textcoords=\"offset points\",\n",
        "                xytext=(0,10), ha='center', fontsize=10, fontweight='bold')\n",
        "    ax.annotate(f'{val_loss:.4f}', (i, val_loss), textcoords=\"offset points\",\n",
        "                xytext=(0,-15), ha='center', fontsize=10, fontweight='bold')\n",
        "\n",
        "# Adjust layout and display the plot\n",
        "plt.tight_layout()\n",
        "plt.show()\n",
        "\n",
        "# Print the loss values\n",
        "print(\"\\nTraining Losses:\", train_losses)\n",
        "print(\"Validation Losses:\", val_losses)\n",
        "\n",
        "# Calculate and print the percentage improvement\n",
        "if len(train_losses) > 1:\n",
        "    train_improvement = (train_losses[0] - train_losses[-1]) / train_losses[0] * 100\n",
        "    val_improvement = (val_losses[0] - val_losses[-1]) / val_losses[0] * 100\n",
        "    print(f\"\\nTraining Loss Improvement: {train_improvement:.2f}%\")\n",
        "    print(f\"Validation Loss Improvement: {val_improvement:.2f}%\")\n",
        "\n",
        "# Add a summary of the results\n",
        "print(\"\\nSummary:\")\n",
        "print(f\"Initial Training Loss: {train_losses[0]:.4f}\")\n",
        "print(f\"Final Training Loss: {train_losses[-1]:.4f}\")\n",
        "print(f\"Initial Validation Loss: {val_losses[0]:.4f}\")\n",
        "print(f\"Final Validation Loss: {val_losses[-1]:.4f}\")\n",
        "print(f\"\\nNumber of Epochs: {len(train_losses)}\")\n",
        "print(f\"Best Training Loss: {min(train_losses):.4f}\")\n",
        "print(f\"Best Validation Loss: {min(val_losses):.4f}\")"
      ],
      "metadata": {
        "colab": {
          "base_uri": "https://localhost:8080/",
          "height": 1000
        },
        "id": "a9S4ZVqbZytX",
        "outputId": "04fd9532-a972-44ed-c057-02a37823b028"
      },
      "execution_count": 23,
      "outputs": [
        {
          "output_type": "stream",
          "name": "stderr",
          "text": [
            "<ipython-input-23-76c7958b3f71>:8: MatplotlibDeprecationWarning: The seaborn styles shipped by Matplotlib are deprecated since 3.6, as they no longer correspond to the styles shipped by seaborn. However, they will remain available as 'seaborn-v0_8-<style>'. Alternatively, directly use the seaborn API instead.\n",
            "  plt.style.use('seaborn')\n"
          ]
        },
        {
          "output_type": "stream",
          "name": "stdout",
          "text": [
            "Drive already mounted at /content/drive; to attempt to forcibly remount, call drive.mount(\"/content/drive\", force_remount=True).\n"
          ]
        },
        {
          "output_type": "display_data",
          "data": {
            "text/plain": [
              "<Figure size 1400x800 with 1 Axes>"
            ],
            "image/png": "[encoded data removed]"
          },
          "metadata": {}
        },
        {
          "output_type": "stream",
          "name": "stdout",
          "text": [
            "\n",
            "Training Losses: [6.612106467544155, 6.169492983619754]\n",
            "Validation Losses: [6.384113420414019, 6.296652510196348]\n",
            "\n",
            "Training Loss Improvement: 6.69%\n",
            "Validation Loss Improvement: 1.37%\n",
            "\n",
            "Summary:\n",
            "Initial Training Loss: 6.6121\n",
            "Final Training Loss: 6.1695\n",
            "Initial Validation Loss: 6.3841\n",
            "Final Validation Loss: 6.2967\n",
            "\n",
            "Number of Epochs: 2\n",
            "Best Training Loss: 6.1695\n",
            "Best Validation Loss: 6.2967\n"
          ]
        }
      ]
    },
    {
      "cell_type": "markdown",
      "source": [
        "# BERT-Based Text Summarization: Data Visualization and Analysis\n",
        "\n",
        "## Training Results Overview\n",
        "\n",
        "### Loss Values\n",
        "- **Training Losses**:\n",
        "  - Epoch 1: 6.6121\n",
        "  - Epoch 2: 6.1695\n",
        "- **Validation Losses**:\n",
        "  - Epoch 1: 6.3841\n",
        "  - Epoch 2: 6.2967\n",
        "\n",
        "### Improvement Metrics\n",
        "- **Training Loss Improvement**: 6.69%\n",
        "- **Validation Loss Improvement**: 1.37%\n",
        "\n",
        "## Detailed Analysis\n",
        "\n",
        "### Initial State (Before Training)\n",
        "\n",
        "At the beginning of training, we can infer the model's initial state:\n",
        "\n",
        "1. **High Initial Loss**: The first epoch's training loss (6.6121) indicates that the model started with high prediction errors, which is expected for an untrained model on a complex task like text summarization.\n",
        "\n",
        "2. **Validation-Training Gap**: The initial validation loss (6.3841) is lower than the training loss, suggesting that:\n",
        "   - The model might be underfitting at the start.\n",
        "   - The validation set might be slightly easier than the training set.\n",
        "   - There could be some variance due to the smaller size of the validation set.\n",
        "\n",
        "### Training Progress\n",
        "\n",
        "As the model trained through two epochs, we observed:\n",
        "\n",
        "1. **Consistent Improvement**: Both training and validation losses decreased, indicating that the model is learning and improving its performance on the summarization task.\n",
        "\n",
        "2. **Training Loss Reduction**:\n",
        "   - Epoch 1 to Epoch 2: Decreased from 6.6121 to 6.1695\n",
        "   - This significant drop (0.4426 absolute, 6.69% relative) shows that the model is quickly learning to better predict the target summaries.\n",
        "\n",
        "3. **Validation Loss Reduction**:\n",
        "   - Epoch 1 to Epoch 2: Decreased from 6.3841 to 6.2967\n",
        "   - The smaller improvement (0.0874 absolute, 1.37% relative) suggests that the model is generalizing, but at a slower rate than its improvement on the training data.\n",
        "\n",
        "### Final State (After Training)\n",
        "\n",
        "After two epochs of training, we can conclude:\n",
        "\n",
        "1. **Overall Improvement**: The model has shown clear signs of learning, with both training and validation losses decreasing.\n",
        "\n",
        "2. **Training Effectiveness**: The 6.69% improvement in training loss is substantial for just two epochs, indicating that the chosen architecture and hyperparameters are effective for this task.\n",
        "\n",
        "3. **Generalization**: The 1.37% improvement in validation loss, while smaller, shows that the model is indeed learning generalizable features and not just memorizing the training data.\n",
        "\n",
        "4. **Convergence Speed**: The larger improvement in training loss compared to validation loss suggests that the model might benefit from more epochs of training to further improve generalization.\n",
        "\n",
        "5. **Potential Overfitting**: The growing gap between training and validation loss (from 0.2280 to 0.1272) warrants attention in future epochs to ensure the model doesn't overfit.\n",
        "\n",
        "## Visualization Insights\n",
        "\n",
        "The visualization of the loss curves provides several insights:\n",
        "\n",
        "1. **Downward Trend**: Both curves show a clear downward trend, visualizing the model's learning progress.\n",
        "\n",
        "2. **Steeper Training Curve**: The training loss curve is steeper than the validation curve, which is common and indicates faster learning on the training set.\n",
        "\n",
        "3. **Convergence**: The curves are not plateauing yet, suggesting that the model could potentially benefit from more epochs of training.\n",
        "\n",
        "4. **Validation Fluctuations**: Any fluctuations in the validation curve (if visible) could indicate the model's sensitivity to different batches or examples in the validation set.\n",
        "\n",
        "## Recommendations Based on Visualization\n",
        "\n",
        "1. **Extended Training**: Given the consistent improvement and lack of plateauing, training for additional epochs could yield further performance gains.\n",
        "\n",
        "2. **Learning Rate Analysis**: The steady decrease suggests the current learning rate is appropriate, but experimenting with learning rate schedules might optimize the training process.\n",
        "\n",
        "3. **Overfitting Monitoring**: In future epochs, closely monitor the gap between training and validation loss to detect and mitigate potential overfitting.\n",
        "\n",
        "4. **Data Augmentation**: To improve generalization and slow down the widening gap between training and validation loss, consider implementing data augmentation techniques.\n",
        "\n",
        "5. **Batch Size Tuning**: The current batch size seems effective, but experimenting with different sizes might find an optimal balance between learning speed and generalization.\n",
        "\n",
        "## Conclusion\n",
        "\n",
        "The visualization and analysis of the training process reveal a model that is learning effectively in its initial stages. The substantial improvement in training loss and the smaller but significant improvement in validation loss indicate that the BERT-based architecture is well-suited for the text summarization task. However, the limited number of epochs and the growing gap between training and validation performance suggest that there's potential for further optimization and improvement with extended training and careful hyperparameter tuning."
      ],
      "metadata": {
        "id": "bDTgjbcge5UD"
      }
    }
  ]
}